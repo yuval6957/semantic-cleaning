{
  "cells": [
    {
      "cell_type": "markdown",
      "metadata": {
        "id": "view-in-github",
        "colab_type": "text"
      },
      "source": [
        "<a href=\"https://colab.research.google.com/github/yuval6957/semantic-cleaning/blob/main/nbs/index.ipynb\" target=\"_parent\"><img src=\"https://colab.research.google.com/assets/colab-badge.svg\" alt=\"Open In Colab\"/></a>"
      ]
    },
    {
      "cell_type": "code",
      "execution_count": null,
      "metadata": {
        "id": "gADzkEq6ZiMI"
      },
      "outputs": [],
      "source": [
        "#| hide\n",
        "from semantic_cleaning.core import *"
      ]
    },
    {
      "cell_type": "markdown",
      "metadata": {
        "id": "DVw4hMUsZiMK"
      },
      "source": [
        "# semantic-cleaning\n",
        "\n",
        "> Tools for semantic cleaning of a test dataset"
      ]
    },
    {
      "cell_type": "markdown",
      "metadata": {
        "id": "WNVw6BqEZiML"
      },
      "source": [
        "This file will become your README and also the index of your documentation."
      ]
    },
    {
      "cell_type": "markdown",
      "metadata": {
        "id": "gmR7dJ8oZiML"
      },
      "source": [
        "## Install"
      ]
    },
    {
      "cell_type": "markdown",
      "metadata": {
        "id": "1Y5nof9tZiML"
      },
      "source": [
        "```sh\n",
        "pip install semantic_cleaning\n",
        "```"
      ]
    },
    {
      "cell_type": "markdown",
      "metadata": {
        "id": "CvrIozVDZiMM"
      },
      "source": [
        "## How to use"
      ]
    },
    {
      "cell_type": "markdown",
      "metadata": {
        "id": "lKNJvFOQZiMM"
      },
      "source": [
        "Processing a dataset to get a sentence for QA or comment and response etc."
      ]
    },
    {
      "cell_type": "code",
      "execution_count": null,
      "metadata": {
        "id": "f29d2TVtZiMM",
        "outputId": "cbf01c98-950f-4171-e559-cd68be6a9e53"
      },
      "outputs": [
        {
          "data": {
            "text/plain": [
              "2"
            ]
          },
          "execution_count": null,
          "metadata": {},
          "output_type": "execute_result"
        }
      ],
      "source": [
        "data = load_dataset(\"0-hero/OIG-small-chip2\")\n",
        "_ = preprocess_data(data,schema = \":{user} :{chip2}\")\n",
        "data['train']['_merged'][0]\n",
        "     "
      ]
    },
    {
      "cell_type": "markdown",
      "source": [
        "Compute the embadding fot the sentences"
      ],
      "metadata": {
        "id": "NZ6ifMqEapQg"
      }
    },
    {
      "cell_type": "code",
      "execution_count": null,
      "metadata": {
        "id": "oG580WUmZiMN"
      },
      "outputs": [],
      "source": [
        "#|eval: False\n",
        "tokenizer = AutoTokenizer.from_pretrained('sentence-transformers/all-mpnet-base-v2')\n",
        "model = AutoModel.from_pretrained('sentence-transformers/all-mpnet-base-v2').to('cuda')\n",
        "embedding = compute_embeddings(data = data, embedding_model = model, tokenizer = tokenizer, batch_size = 64, num_workers =16, dataset_feature  = '_merged'):"
      ]
    },
    {
      "cell_type": "markdown",
      "source": [
        "We can get the indicis of all the duplicated lines with the folowing command:"
      ],
      "metadata": {
        "id": "hUBdZhXHc19e"
      }
    },
    {
      "cell_type": "code",
      "source": [
        "#|eval: False\n",
        "to_delete = deduplicate_embeddings(embedded =embeddeing, epsilon=1e-2, batch_size=20000)"
      ],
      "metadata": {
        "id": "ziAWe1bSdYUx"
      },
      "execution_count": null,
      "outputs": []
    },
    {
      "cell_type": "markdown",
      "source": [
        "The full process could be run like this"
      ],
      "metadata": {
        "id": "C6YwUy9Idixr"
      }
    },
    {
      "cell_type": "code",
      "source": [
        "  #|eval: False\n",
        "  deduplicated = deduplicate_dataset(\n",
        "      dataset = data['train'], \n",
        "      model = model, \n",
        "      tokenizer = tokenizer,\n",
        "      epsilon = 1e-2, \n",
        "      model_batch_size = 64, \n",
        "      deduplication_batch_size = 20000, \n",
        "      num_workers = 16,\n",
        "      dataset_feature = '_merged'\n",
        "  )\n",
        "  print (f\"cleaned:{(1-len(deduplicated)/len(data['train']))*100:.2f}:%\")"
      ],
      "metadata": {
        "id": "w4jOuyPtdgZ1"
      },
      "execution_count": null,
      "outputs": []
    },
    {
      "cell_type": "markdown",
      "source": [
        "And deduplicated can be pushed back to the hub or saved on local drive"
      ],
      "metadata": {
        "id": "LtauBDD2dusl"
      }
    },
    {
      "cell_type": "code",
      "source": [],
      "metadata": {
        "id": "PS3heCILd49c"
      },
      "execution_count": null,
      "outputs": []
    }
  ],
  "metadata": {
    "kernelspec": {
      "display_name": "python3",
      "language": "python",
      "name": "python3"
    },
    "colab": {
      "provenance": [],
      "include_colab_link": true
    }
  },
  "nbformat": 4,
  "nbformat_minor": 0
}