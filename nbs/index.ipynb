{
 "cells": [
  {
   "attachments": {},
   "cell_type": "markdown",
   "metadata": {},
   "source": [
    "<a href=\"https://colab.research.google.com/github/yuval6957/semantic-cleaning/blob/main/nbs/index.ipynb\" target=\"_parent\"><img src=\"https://colab.research.google.com/assets/colab-badge.svg\" alt=\"Open In Colab\"/></a>"
   ]
  },
  {
   "attachments": {},
   "cell_type": "markdown",
   "metadata": {},
   "source": [
    "# semantic-cleaning\n",
    "\n",
    "> Tools for semantic cleaning of a test dataset"
   ]
  },
  {
   "attachments": {},
   "cell_type": "markdown",
   "metadata": {},
   "source": [
    "## Install"
   ]
  },
  {
   "attachments": {},
   "cell_type": "markdown",
   "metadata": {},
   "source": [
    "```sh\n",
    "pip install semantic-cleaning\n",
    "```"
   ]
  },
  {
   "attachments": {},
   "cell_type": "markdown",
   "metadata": {},
   "source": [
    "## How to use"
   ]
  },
  {
   "cell_type": "code",
   "execution_count": null,
   "metadata": {},
   "outputs": [],
   "source": [
    "from datasets import load_dataset\n",
    "import numpy as np\n",
    "from transformers import AutoTokenizer, AutoModel\n",
    "from semantic_cleaning import  preprocess_data,compute_embeddings, deduplicate_embeddings, deduplicate_dataset"
   ]
  },
  {
   "attachments": {},
   "cell_type": "markdown",
   "metadata": {},
   "source": [
    "Processing a dataset to get a sentence for QA or comment and response etc."
   ]
  },
  {
   "cell_type": "code",
   "execution_count": null,
   "metadata": {},
   "outputs": [
    {
     "data": {
      "text/plain": [
       "2"
      ]
     },
     "execution_count": null,
     "metadata": {},
     "output_type": "execute_result"
    }
   ],
   "source": [
    "data = load_dataset(\"0-hero/OIG-small-chip2\")\n",
    "_ = preprocess_data(data,schema = \":{user} :{chip2}\")\n",
    "data['train']['_merged'][0]\n",
    "     "
   ]
  },
  {
   "attachments": {},
   "cell_type": "markdown",
   "metadata": {},
   "source": [
    "Compute the embadding fot the sentences"
   ]
  },
  {
   "cell_type": "code",
   "execution_count": null,
   "metadata": {},
   "outputs": [],
   "source": [
    "#|eval: False\n",
    "tokenizer = AutoTokenizer.from_pretrained('sentence-transformers/all-mpnet-base-v2')\n",
    "model = AutoModel.from_pretrained('sentence-transformers/all-mpnet-base-v2').to('cuda')\n",
    "embedding = compute_embeddings(data = data, embedding_model = model, tokenizer = tokenizer, batch_size = 64, num_workers =16, dataset_feature  = '_merged'):"
   ]
  },
  {
   "attachments": {},
   "cell_type": "markdown",
   "metadata": {},
   "source": [
    "We can get the indicis of all the duplicated lines with the folowing command:"
   ]
  },
  {
   "cell_type": "code",
   "execution_count": null,
   "metadata": {},
   "outputs": [],
   "source": [
    "#|eval: False\n",
    "to_delete = deduplicate_embeddings(embedded =embeddeing, epsilon=1e-2, batch_size=20000)"
   ]
  },
  {
   "attachments": {},
   "cell_type": "markdown",
   "metadata": {},
   "source": [
    "You could also find duplication between two datasets or splits like this:\n",
    "\n",
    "```python\n",
    "to_delete = deduplicate_embeddings(embedded =embeddeing, embedded2 =embeddeing2, epsilon=1e-2, batch_size=20000)\n",
    "```"
   ]
  },
  {
   "attachments": {},
   "cell_type": "markdown",
   "metadata": {},
   "source": [
    "The full process could be run like this"
   ]
  },
  {
   "cell_type": "code",
   "execution_count": null,
   "metadata": {},
   "outputs": [],
   "source": [
    "#|eval: False\n",
    "deduplicated = deduplicate_dataset(\n",
    "    dataset = data['train'], \n",
    "    model = model, \n",
    "    tokenizer = tokenizer,\n",
    "    epsilon = 1e-2, \n",
    "    model_batch_size = 64, \n",
    "    deduplication_batch_size = 20000, \n",
    "    num_workers = 16,\n",
    "    dataset_feature = '_merged'\n",
    ")\n",
    "print (f\"cleaned:{(1-len(deduplicated)/len(data['train']))*100:.2f}:%\")"
   ]
  },
  {
   "attachments": {},
   "cell_type": "markdown",
   "metadata": {},
   "source": [
    "And deduplicated can be pushed back to the hub or saved on local drive"
   ]
  },
  {
   "attachments": {},
   "cell_type": "markdown",
   "metadata": {},
   "source": [
    "## Command-Line Interface"
   ]
  },
  {
   "attachments": {},
   "cell_type": "markdown",
   "metadata": {},
   "source": [
    "The semantic cleaning module also includes a command-line interface that can be used to deduplicate datasets:\n",
    "\n",
    "```bash\n",
    "python semantic-cleaning.py \\\n",
    "  --model_path \"sentence-transformers/all-mpnet-base-v2\" \\\n",
    "  --tokenizer_path \"sentence-transformers/all-mpnet-base-v2\" \\\n",
    "  --dataset_path \"0-hero/OIG-small-chip2\" \\\n",
    "  --output_path \"./deduplicated_imdb\"\n",
    "```\n",
    "\n",
    "The following arguments are available:\n",
    "\n",
    "- --dataset_path: Path to the dataset to be deduplicated.\n",
    "- --model_path: The model checkpoint for embeddings. Should be a path or model id in HuggingFace model hub.\n",
    "- --tokenizer_path: The tokenizer to be used.\n",
    "- --epsilon: Threshold for cosine similarity to consider embeddings as duplicates.\n",
    "- --model_batch_size: Batch size for the model.\n",
    "- --deduplication_batch_size: Batch size for the deduplication process.\n",
    "- --num_workers: Number of worker processes for data loading.\n",
    "- --dataset_feature: Feature in the dataset to be used for deduplication.\n",
    "- --output_path: Path to save the deduplicated dataset. Can be a local path or a HuggingFace dataset repository.\n",
    "- --hub_repo: Repository on the Hugging Face hub to push the dataset.\n",
    "- --hub_token: HuggingFace Hub token to push the dataset to the Hub. Required when hub_repo is provided.\n",
    "- --device: Device to use for computations (e.g., 'cpu', 'cuda', 'cuda:1'). If not provided, it will use CUDA if available, otherwise CPU.\n",
    "\n",
    "\n",
    "You can use the --help flag to get a description of all options:\n",
    "```bash\n",
    "python semantic-cleaning.py --help\n",
    "```\n",
    "\n"
   ]
  }
 ],
 "metadata": {
  "kernelspec": {
   "display_name": "python3",
   "language": "python",
   "name": "python3"
  }
 },
 "nbformat": 4,
 "nbformat_minor": 0
}
