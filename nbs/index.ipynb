{
  "cells": [
    {
      "cell_type": "markdown",
      "metadata": {
        "id": "uy-cf2LmlvLf"
      },
      "source": [
        "<a href=\"https://colab.research.google.com/github/yuval6957/semantic-cleaning/blob/main/nbs/index.ipynb\" target=\"_parent\"><img src=\"https://colab.research.google.com/assets/colab-badge.svg\" alt=\"Open In Colab\"/></a>"
      ]
    },
    {
      "cell_type": "markdown",
      "metadata": {
        "id": "AfYAa_I5lvLi"
      },
      "source": [
        "# semantic-cleaning\n",
        "\n",
        "> Tools for semantic cleaning of a test dataset"
      ]
    },
    {
      "cell_type": "markdown",
      "metadata": {
        "id": "VLztbf7jlvLi"
      },
      "source": [
        "## Install"
      ]
    },
    {
      "cell_type": "markdown",
      "metadata": {
        "id": "6B79mCY0lvLj"
      },
      "source": [
        "```sh\n",
        "pip install semantic-cleaning\n",
        "```"
      ]
    },
    {
      "cell_type": "markdown",
      "metadata": {
        "id": "DM3novEglvLj"
      },
      "source": [
        "## How to use"
      ]
    },
    {
      "cell_type": "code",
      "execution_count": 1,
      "metadata": {
        "id": "gbjJHH7NlvLj"
      },
      "outputs": [],
      "source": [
        "from datasets import load_dataset\n",
        "import numpy as np\n",
        "from transformers import AutoTokenizer, AutoModel\n",
        "from semantic_cleaning import  preprocess_data,compute_embeddings, deduplicate_embeddings, deduplicate_dataset"
      ]
    },
    {
      "cell_type": "markdown",
      "metadata": {
        "id": "To51qBsllvLj"
      },
      "source": [
        "Processing a dataset to get a sentence for QA or comment and response etc."
      ]
    },
    {
      "cell_type": "code",
      "execution_count": null,
      "metadata": {
        "id": "MDLe6K-ZlvLj",
        "outputId": "f650647a-a362-42ea-d0c7-636936e4bdc6"
      },
      "outputs": [
        {
          "data": {
            "text/plain": [
              "2"
            ]
          },
          "execution_count": null,
          "metadata": {},
          "output_type": "execute_result"
        }
      ],
      "source": [
        "data = load_dataset(\"0-hero/OIG-small-chip2\")\n",
        "_ = preprocess_data(data,schema = \":{user} :{chip2}\")\n",
        "data['train']['_merged'][0]\n",
        "     "
      ]
    },
    {
      "cell_type": "markdown",
      "metadata": {
        "id": "9uprWtp4lvLk"
      },
      "source": [
        "Compute the embadding fot the sentences"
      ]
    },
    {
      "cell_type": "code",
      "execution_count": null,
      "metadata": {
        "id": "LvRqaZ6hlvLl"
      },
      "outputs": [],
      "source": [
        "#|eval: False\n",
        "tokenizer = AutoTokenizer.from_pretrained('sentence-transformers/all-mpnet-base-v2')\n",
        "model = AutoModel.from_pretrained('sentence-transformers/all-mpnet-base-v2').to('cuda')\n",
        "embedding = compute_embeddings(data = data, embedding_model = model, tokenizer = tokenizer, batch_size = 64, num_workers =16, dataset_feature  = '_merged'):"
      ]
    },
    {
      "cell_type": "markdown",
      "metadata": {
        "id": "9hNCj2uelvLl"
      },
      "source": [
        "We can get the indicis of all the duplicated lines with the folowing command:"
      ]
    },
    {
      "cell_type": "code",
      "execution_count": null,
      "metadata": {
        "id": "bIrEcJcalvLl"
      },
      "outputs": [],
      "source": [
        "#|eval: False\n",
        "to_delete = deduplicate_embeddings(embedded =embeddeing, epsilon=1e-2, batch_size=20000)"
      ]
    },
    {
      "cell_type": "markdown",
      "metadata": {
        "id": "qCXaOGstlvLl"
      },
      "source": [
        "The full process could be run like this"
      ]
    },
    {
      "cell_type": "code",
      "execution_count": null,
      "metadata": {
        "id": "paXySuNllvLl"
      },
      "outputs": [],
      "source": [
        "  #|eval: False\n",
        "  deduplicated = deduplicate_dataset(\n",
        "      dataset = data['train'], \n",
        "      model = model, \n",
        "      tokenizer = tokenizer,\n",
        "      epsilon = 1e-2, \n",
        "      model_batch_size = 64, \n",
        "      deduplication_batch_size = 20000, \n",
        "      num_workers = 16,\n",
        "      dataset_feature = '_merged'\n",
        "  )\n",
        "  print (f\"cleaned:{(1-len(deduplicated)/len(data['train']))*100:.2f}:%\")"
      ]
    },
    {
      "cell_type": "markdown",
      "metadata": {
        "id": "dNY6kzyXlvLl"
      },
      "source": [
        "And deduplicated can be pushed back to the hub or saved on local drive"
      ]
    },
    {
      "cell_type": "code",
      "execution_count": null,
      "metadata": {
        "id": "CYvu1YC7lvLm"
      },
      "outputs": [],
      "source": []
    }
  ],
  "metadata": {
    "kernelspec": {
      "display_name": "python3",
      "language": "python",
      "name": "python3"
    },
    "colab": {
      "provenance": []
    }
  },
  "nbformat": 4,
  "nbformat_minor": 0
}