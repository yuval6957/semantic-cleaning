{
  "cells": [
    {
      "cell_type": "markdown",
      "metadata": {
        "id": "aK3JkK6nEzFL"
      },
      "source": [
        "# core\n",
        "\n",
        "> This is the core module that will include everything needed for the semantic cleaning"
      ]
    },
    {
      "cell_type": "code",
      "execution_count": null,
      "metadata": {
        "id": "cCUB2YimEzFN"
      },
      "outputs": [],
      "source": [
        "#| default_exp core"
      ]
    },
    {
      "cell_type": "code",
      "execution_count": null,
      "metadata": {
        "id": "SLGKvUzfEzFO"
      },
      "outputs": [],
      "source": [
        "#| hide\n",
        "from nbdev.showdoc import *"
      ]
    },
    {
      "cell_type": "code",
      "execution_count": null,
      "metadata": {
        "id": "_JJULbkREzFP"
      },
      "outputs": [],
      "source": [
        "#| export\n",
        "def foo(): pass"
      ]
    },
    {
      "cell_type": "code",
      "execution_count": null,
      "metadata": {
        "id": "IU_wAtwjEzFP"
      },
      "outputs": [],
      "source": [
        "#| hide\n",
        "import nbdev; nbdev.nbdev_export()"
      ]
    }
  ],
  "metadata": {
    "kernelspec": {
      "display_name": "python3",
      "language": "python",
      "name": "python3"
    },
    "colab": {
      "provenance": []
    }
  },
  "nbformat": 4,
  "nbformat_minor": 0
}